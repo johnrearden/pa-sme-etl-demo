{
 "cells": [
  {
   "cell_type": "markdown",
   "id": "a3154b14",
   "metadata": {},
   "source": [
    "# Data Cleaning with Python (Part 1)"
   ]
  },
  {
   "cell_type": "markdown",
   "id": "bc856920",
   "metadata": {},
   "source": [
    "In this topic, we’ll perform data cleaning tasks in Python using Pandas, focusing on:\n",
    "\n",
    "- **Standardising data types** to ensure correct formats.\n",
    "- **Standardising product names and categories** for consistency.\n",
    "- **Handling missing values** to maintain data completeness.\n",
    "\n",
    "After reading the instructions for the step, run the cell to see the results.\n",
    " \n"
   ]
  },
  {
   "cell_type": "markdown",
   "id": "a8525094",
   "metadata": {},
   "source": [
    "### Step 1: Import Libraries and Load Data\n",
    "\n",
    "First, we need to import the necessary libraries and load our dataset. Pandas is the primary library we’ll use to manipulate our data."
   ]
  },
  {
   "cell_type": "code",
   "execution_count": 3,
   "id": "4d3fb828",
   "metadata": {
    "scrolled": true
   },
   "outputs": [
    {
     "data": {
      "text/html": [
       "<div>\n",
       "<style scoped>\n",
       "    .dataframe tbody tr th:only-of-type {\n",
       "        vertical-align: middle;\n",
       "    }\n",
       "\n",
       "    .dataframe tbody tr th {\n",
       "        vertical-align: top;\n",
       "    }\n",
       "\n",
       "    .dataframe thead th {\n",
       "        text-align: right;\n",
       "    }\n",
       "</style>\n",
       "<table border=\"1\" class=\"dataframe\">\n",
       "  <thead>\n",
       "    <tr style=\"text-align: right;\">\n",
       "      <th></th>\n",
       "      <th>CustomerID</th>\n",
       "      <th>TransactionID</th>\n",
       "      <th>Transaction Date</th>\n",
       "      <th>Product Name</th>\n",
       "      <th>Product Category</th>\n",
       "      <th>Quantity</th>\n",
       "      <th>Price Per Unit</th>\n",
       "      <th>Payment Method</th>\n",
       "      <th>Customer Age</th>\n",
       "      <th>Total Amount</th>\n",
       "    </tr>\n",
       "  </thead>\n",
       "  <tbody>\n",
       "    <tr>\n",
       "      <th>0</th>\n",
       "      <td>CUST041</td>\n",
       "      <td>TXN0001</td>\n",
       "      <td>14/12/2023</td>\n",
       "      <td>Tablet</td>\n",
       "      <td>Electronics</td>\n",
       "      <td>£9.00</td>\n",
       "      <td>229.78</td>\n",
       "      <td>Debit Card</td>\n",
       "      <td>34.0</td>\n",
       "      <td>2068.02</td>\n",
       "    </tr>\n",
       "    <tr>\n",
       "      <th>1</th>\n",
       "      <td>CUST008</td>\n",
       "      <td>TXN0002</td>\n",
       "      <td>02/12/2023</td>\n",
       "      <td>Tablet</td>\n",
       "      <td>Electronics</td>\n",
       "      <td>£4.00</td>\n",
       "      <td>443.23</td>\n",
       "      <td>Debit Card</td>\n",
       "      <td>39.0</td>\n",
       "      <td>1772.92</td>\n",
       "    </tr>\n",
       "    <tr>\n",
       "      <th>2</th>\n",
       "      <td>CUST002</td>\n",
       "      <td>TXN0003</td>\n",
       "      <td>01/12/2023</td>\n",
       "      <td>Smartphone</td>\n",
       "      <td>Electronics</td>\n",
       "      <td>£4.00</td>\n",
       "      <td>221.94</td>\n",
       "      <td>Cash</td>\n",
       "      <td>34.0</td>\n",
       "      <td>887.76</td>\n",
       "    </tr>\n",
       "    <tr>\n",
       "      <th>3</th>\n",
       "      <td>CUST048</td>\n",
       "      <td>TXN0004</td>\n",
       "      <td>07/08/2023</td>\n",
       "      <td>Monitor</td>\n",
       "      <td>Electronics</td>\n",
       "      <td>£9.00</td>\n",
       "      <td>226.87</td>\n",
       "      <td>Debit Card</td>\n",
       "      <td>47.0</td>\n",
       "      <td>2041.83</td>\n",
       "    </tr>\n",
       "    <tr>\n",
       "      <th>4</th>\n",
       "      <td>CUST018</td>\n",
       "      <td>TXN0005</td>\n",
       "      <td>27/06/2023</td>\n",
       "      <td>Laptop</td>\n",
       "      <td>Electronics</td>\n",
       "      <td>£1.00</td>\n",
       "      <td>169.77</td>\n",
       "      <td>Debit Card</td>\n",
       "      <td>71.0</td>\n",
       "      <td>169.77</td>\n",
       "    </tr>\n",
       "  </tbody>\n",
       "</table>\n",
       "</div>"
      ],
      "text/plain": [
       "  CustomerID TransactionID Transaction Date Product Name Product Category  \\\n",
       "0    CUST041       TXN0001       14/12/2023       Tablet      Electronics   \n",
       "1    CUST008       TXN0002       02/12/2023       Tablet      Electronics   \n",
       "2    CUST002       TXN0003       01/12/2023   Smartphone      Electronics   \n",
       "3    CUST048       TXN0004       07/08/2023      Monitor      Electronics   \n",
       "4    CUST018       TXN0005       27/06/2023       Laptop      Electronics   \n",
       "\n",
       "  Quantity  Price Per Unit Payment Method  Customer Age   Total Amount   \n",
       "0    £9.00          229.78     Debit Card          34.0         2068.02  \n",
       "1    £4.00          443.23     Debit Card          39.0         1772.92  \n",
       "2    £4.00          221.94           Cash          34.0          887.76  \n",
       "3    £9.00          226.87     Debit Card          47.0         2041.83  \n",
       "4    £1.00          169.77     Debit Card          71.0          169.77  "
      ]
     },
     "execution_count": 3,
     "metadata": {},
     "output_type": "execute_result"
    }
   ],
   "source": [
    "# Importing the Pandas library\n",
    "import pandas as pd\n",
    "\n",
    "# Loading the dataset\n",
    "df = pd.read_csv('../inputs/datasets/raw/Customer_Sales_Transaction.xls')\n",
    "\n",
    "# Displaying the first few rows of the dataset\n",
    "df.head()\n"
   ]
  },
  {
   "cell_type": "markdown",
   "id": "c323695f",
   "metadata": {},
   "source": [
    "### Step 2: Standardise Data Types\n",
    "\n",
    "Ensuring each column has the correct data type is crucial. For example, quantities should be numeric, not formatted as currency. We’ll review the data types and correct any mistakes.\n",
    "\n",
    "- **Check Data Types:** Use `.dtypes` to view the data type of each column.\n",
    "- **Convert the Quantity Column:** If `Quantity` is not already numeric, we’ll convert it to a numeric format.\n"
   ]
  },
  {
   "cell_type": "code",
   "execution_count": 4,
   "id": "40beee9b",
   "metadata": {},
   "outputs": [
    {
     "name": "stdout",
     "output_type": "stream",
     "text": [
      "CustomerID           object\n",
      "TransactionID        object\n",
      "Transaction Date     object\n",
      "Product Name         object\n",
      "Product Category     object\n",
      "Quantity             object\n",
      "Price Per Unit      float64\n",
      "Payment Method       object\n",
      "Customer Age        float64\n",
      " Total Amount       float64\n",
      "dtype: object\n"
     ]
    }
   ],
   "source": [
    "# Check the data types of each column\n",
    "print(df.dtypes)"
   ]
  },
  {
   "cell_type": "markdown",
   "id": "f6dfbfde",
   "metadata": {},
   "source": [
    "In Pandas, the `object` data type is a general-purpose type that usually holds strings (text data) but can technically store any Python object. When a column is labeled as `object`, it typically means:\n",
    "\n",
    "- **Text (String) Data**: The most common usage of `object` in Pandas is for columns containing text. For example, names, product categories, and descriptions are often stored as `object` type.\n",
    "\n",
    "- **Mixed Data**: If a column contains a mix of data types (e.g., numbers and strings together), Pandas defaults to the `object` type since it’s more flexible and can accommodate different types.\n",
    "\n",
    "The columns that need corrections include **Transaction Date** and **Quantity**.\n",
    "\n"
   ]
  },
  {
   "cell_type": "markdown",
   "id": "118f612f",
   "metadata": {},
   "source": [
    "### Correcting Data Types\n",
    "\n",
    "1. **Transaction Date**: Convert to `datetime` format to enable date-specific operations.\n",
    "2. **Quantity**: Convert to `int` or `float`, depending on the nature of the data.\n",
    "\n",
    "Here’s how you might apply these corrections in Python:\n"
   ]
  },
  {
   "cell_type": "markdown",
   "id": "67bd04e5",
   "metadata": {},
   "source": [
    "### a) Converting `Transaction Date` Data Type to Datetime Format"
   ]
  },
  {
   "cell_type": "code",
   "execution_count": 5,
   "id": "fcde7913",
   "metadata": {},
   "outputs": [
    {
     "name": "stderr",
     "output_type": "stream",
     "text": [
      "/tmp/ipykernel_73463/2810516242.py:1: UserWarning: Parsing dates in %d/%m/%Y format when dayfirst=False (the default) was specified. Pass `dayfirst=True` or specify a format to silence this warning.\n",
      "  df['Transaction Date'] = pd.to_datetime(df['Transaction Date'], errors='coerce')\n"
     ]
    }
   ],
   "source": [
    "df['Transaction Date'] = pd.to_datetime(df['Transaction Date'], errors='coerce')"
   ]
  },
  {
   "cell_type": "markdown",
   "id": "f8023bc5",
   "metadata": {},
   "source": [
    "- `pd.to_datetime(..., errors='coerce')`: Converts `Transaction Date` to `datetime` format, setting invalid dates to `NaT` (Not a Time)."
   ]
  },
  {
   "cell_type": "code",
   "execution_count": 6,
   "id": "6163266e",
   "metadata": {},
   "outputs": [
    {
     "name": "stdout",
     "output_type": "stream",
     "text": [
      "The transaction date data type is:  datetime64[ns]\n"
     ]
    }
   ],
   "source": [
    "print(\"The transaction date data type is: \", df['Transaction Date'].dtype)"
   ]
  },
  {
   "cell_type": "markdown",
   "id": "0794dafd",
   "metadata": {},
   "source": [
    "### b) Converting Quantity data type to `float`"
   ]
  },
  {
   "cell_type": "code",
   "execution_count": 7,
   "id": "63cadb3d",
   "metadata": {},
   "outputs": [],
   "source": [
    "# Remove the pound symbol and convert the Quantity column to float\n",
    "df['Quantity'] = df['Quantity'].replace('[£]', '', regex=True)\n",
    "df['Quantity'] = df['Quantity'].astype(float)"
   ]
  },
  {
   "cell_type": "markdown",
   "id": "d8c140e9",
   "metadata": {},
   "source": [
    "**Explanation:**\n",
    "\n",
    "- `.replace('[£]', '', regex=True)`: Removes the `£` symbol from each entry in the `Quantity` column. The `regex=True` argument allows for pattern matching, so any occurrence of `£` is replaced with an empty string.\n",
    "- `.astype(float)`: Converts the `Quantity` column to a `float` data type after removing the currency symbol, making it ready for numerical analysis.\n"
   ]
  },
  {
   "cell_type": "code",
   "execution_count": 8,
   "id": "79845fe9",
   "metadata": {},
   "outputs": [
    {
     "name": "stdout",
     "output_type": "stream",
     "text": [
      "The Quantity data type is:  float64\n"
     ]
    }
   ],
   "source": [
    "print(\"The Quantity data type is: \", df['Quantity'].dtype)"
   ]
  },
  {
   "cell_type": "code",
   "execution_count": 9,
   "id": "b57f9179",
   "metadata": {},
   "outputs": [
    {
     "data": {
      "text/plain": [
       "CustomerID                  object\n",
       "TransactionID               object\n",
       "Transaction Date    datetime64[ns]\n",
       "Product Name                object\n",
       "Product Category            object\n",
       "Quantity                   float64\n",
       "Price Per Unit             float64\n",
       "Payment Method              object\n",
       "Customer Age               float64\n",
       " Total Amount              float64\n",
       "dtype: object"
      ]
     },
     "execution_count": 9,
     "metadata": {},
     "output_type": "execute_result"
    }
   ],
   "source": [
    "#print the dataset\n",
    "df.head(5)\n",
    "df.dtypes"
   ]
  },
  {
   "cell_type": "markdown",
   "id": "a78ce5bd",
   "metadata": {},
   "source": [
    "### Step 3: Standardise Text in Product Name and Product Categories\n",
    "\n",
    "Consistency is essential when analysing categories or product names.\n",
    "\n",
    "- **View Unique Values**: Check unique entries in `Product Name` and `Product Category`.\n",
    "- **Replace Inconsistent Values**: Use `.replace()` to standardise the values.\n"
   ]
  },
  {
   "cell_type": "markdown",
   "id": "314f92b7",
   "metadata": {},
   "source": [
    "### a) Standardise Text in Product Name\n",
    " \n",
    "Inconsistent product names can interfere with grouping and analysis. For example, `Lap Top` and `Laptop` should be treated as the same product. We’ll first check for unique product names and then correct any inconsistencies.\n",
    "\n",
    "- **View Unique Product Names:** Use `.unique()` to get a list of all unique product names.\n"
   ]
  },
  {
   "cell_type": "code",
   "execution_count": 10,
   "id": "11e37efa",
   "metadata": {},
   "outputs": [
    {
     "name": "stdout",
     "output_type": "stream",
     "text": [
      "['Tablet' 'Smartphone' 'Monitor' 'Laptop' 'Lap Top' 'Headphones'\n",
      " 'Desk Chair' 'Keyboard' 'Sofa' 'Table']\n"
     ]
    }
   ],
   "source": [
    "# print unique value in the column 'Product Name'\n",
    "print(df['Product Name'].unique())"
   ]
  },
  {
   "cell_type": "markdown",
   "id": "e88e2154",
   "metadata": {},
   "source": [
    "- **Replace Inconsistent Values:** Use `.replace()` to correct any misspelled or misformatted names."
   ]
  },
  {
   "cell_type": "code",
   "execution_count": 11,
   "id": "3ed32748",
   "metadata": {},
   "outputs": [],
   "source": [
    "# Replace inconsistent product names\n",
    "df['Product Name'] = df['Product Name'].replace({\n",
    "    'Lap Top': 'Laptop'\n",
    "})"
   ]
  },
  {
   "cell_type": "markdown",
   "id": "66e070af",
   "metadata": {},
   "source": [
    "- #### Check the unique values to ensure the replacements are done correctly."
   ]
  },
  {
   "cell_type": "code",
   "execution_count": 12,
   "id": "fe61e1c9",
   "metadata": {},
   "outputs": [
    {
     "name": "stdout",
     "output_type": "stream",
     "text": [
      "['Tablet' 'Smartphone' 'Monitor' 'Laptop' 'Headphones' 'Desk Chair'\n",
      " 'Keyboard' 'Sofa' 'Table']\n"
     ]
    }
   ],
   "source": [
    "# Print Unique Values again\n",
    "print(df['Product Name'].unique())"
   ]
  },
  {
   "cell_type": "markdown",
   "id": "b63ad3a7",
   "metadata": {},
   "source": [
    "### b) Standardise Text in Product Category"
   ]
  },
  {
   "cell_type": "markdown",
   "id": "09a82b2d",
   "metadata": {},
   "source": [
    "Like product names, categories should also be consistent to prevent analysis issues. For instance, `electronic` and `Electronics` should be the same category. We’ll use similar steps as above to check and standardise `Product Category`.\n",
    "\n",
    "- **View Unique Categories:** Use `.unique()` to see all entries in `Product Category`."
   ]
  },
  {
   "cell_type": "code",
   "execution_count": 13,
   "id": "5cd7b8af",
   "metadata": {},
   "outputs": [
    {
     "name": "stdout",
     "output_type": "stream",
     "text": [
      "['Electronics' 'furnitures' nan 'Electronic' 'Furniture']\n"
     ]
    }
   ],
   "source": [
    "print(df['Product Category'].unique())"
   ]
  },
  {
   "cell_type": "markdown",
   "id": "44427886",
   "metadata": {},
   "source": [
    "- **Replace Inconsistent Values:** Use `.replace()` to standardize category names."
   ]
  },
  {
   "cell_type": "code",
   "execution_count": 14,
   "id": "93e0cfe5",
   "metadata": {},
   "outputs": [],
   "source": [
    "# Replace 'electronic' with 'Electronics'\n",
    "df['Product Category'] = df['Product Category'].replace('Electronic', 'Electronics')"
   ]
  },
  {
   "cell_type": "code",
   "execution_count": 15,
   "id": "c121cee8",
   "metadata": {},
   "outputs": [],
   "source": [
    "# Replace 'furnitures' with 'Furniture'\n",
    "df['Product Category'] = df['Product Category'].replace('furnitures', 'Furniture')"
   ]
  },
  {
   "cell_type": "markdown",
   "id": "44286cf5",
   "metadata": {},
   "source": [
    "- #### Check the unique values to ensure the replacements are done correctly."
   ]
  },
  {
   "cell_type": "code",
   "execution_count": 16,
   "id": "fae1052c",
   "metadata": {},
   "outputs": [
    {
     "name": "stdout",
     "output_type": "stream",
     "text": [
      "['Electronics' 'Furniture' nan]\n"
     ]
    }
   ],
   "source": [
    "print(df['Product Category'].unique())"
   ]
  },
  {
   "cell_type": "markdown",
   "id": "b0c678a8",
   "metadata": {},
   "source": [
    "- We can see that the replacement has been done correctly, but we have noticed a missing value represented by NaN. Now, let's handle the missing values.\n"
   ]
  },
  {
   "cell_type": "markdown",
   "id": "0be0c1fa",
   "metadata": {},
   "source": [
    "### Step 4: Handle Missing Values\n",
    "\n",
    "Let's identify any missing values and handle them appropriately.\n",
    "\n",
    "1. **Check for Missing Values:** Use `.isnull().sum()` to get a count of missing values in each column.\n",
    "2. **Fill Missing Values in Product Category:** Based on context, fill in missing categories (e.g., if `Product Name` is \"Tablet,\" set `Product Category` to \"Electronics\").\n",
    "3. **Impute Missing Customer Ages:** Use the median age to fill in missing values in `Customer Age` as it's less affected by outliers."
   ]
  },
  {
   "cell_type": "code",
   "execution_count": 17,
   "id": "57520254",
   "metadata": {},
   "outputs": [
    {
     "name": "stdout",
     "output_type": "stream",
     "text": [
      "CustomerID          0\n",
      "TransactionID       0\n",
      "Transaction Date    0\n",
      "Product Name        0\n",
      "Product Category    1\n",
      "Quantity            0\n",
      "Price Per Unit      0\n",
      "Payment Method      0\n",
      "Customer Age        1\n",
      " Total Amount       0\n",
      "dtype: int64\n"
     ]
    }
   ],
   "source": [
    "# Counting the number of missing values for each column\n",
    "print(df.isnull().sum()) "
   ]
  },
  {
   "cell_type": "markdown",
   "id": "e48b28b7",
   "metadata": {},
   "source": [
    "- We can see that the columns **Product Category** and **Customer Age** each have one missing value. Lets inspect these rows. "
   ]
  },
  {
   "cell_type": "markdown",
   "id": "61e5e707",
   "metadata": {},
   "source": [
    "### a) Handling Missing Value in Product Category Column"
   ]
  },
  {
   "cell_type": "code",
   "execution_count": 18,
   "id": "112ad887",
   "metadata": {},
   "outputs": [
    {
     "data": {
      "text/html": [
       "<div>\n",
       "<style scoped>\n",
       "    .dataframe tbody tr th:only-of-type {\n",
       "        vertical-align: middle;\n",
       "    }\n",
       "\n",
       "    .dataframe tbody tr th {\n",
       "        vertical-align: top;\n",
       "    }\n",
       "\n",
       "    .dataframe thead th {\n",
       "        text-align: right;\n",
       "    }\n",
       "</style>\n",
       "<table border=\"1\" class=\"dataframe\">\n",
       "  <thead>\n",
       "    <tr style=\"text-align: right;\">\n",
       "      <th></th>\n",
       "      <th>CustomerID</th>\n",
       "      <th>TransactionID</th>\n",
       "      <th>Transaction Date</th>\n",
       "      <th>Product Name</th>\n",
       "      <th>Product Category</th>\n",
       "      <th>Quantity</th>\n",
       "      <th>Price Per Unit</th>\n",
       "      <th>Payment Method</th>\n",
       "      <th>Customer Age</th>\n",
       "      <th>Total Amount</th>\n",
       "    </tr>\n",
       "  </thead>\n",
       "  <tbody>\n",
       "    <tr>\n",
       "      <th>8</th>\n",
       "      <td>CUST048</td>\n",
       "      <td>TXN0009</td>\n",
       "      <td>2023-12-25</td>\n",
       "      <td>Tablet</td>\n",
       "      <td>NaN</td>\n",
       "      <td>4.0</td>\n",
       "      <td>390.53</td>\n",
       "      <td>Debit Card</td>\n",
       "      <td>42.0</td>\n",
       "      <td>1562.12</td>\n",
       "    </tr>\n",
       "  </tbody>\n",
       "</table>\n",
       "</div>"
      ],
      "text/plain": [
       "  CustomerID TransactionID Transaction Date Product Name Product Category  \\\n",
       "8    CUST048       TXN0009       2023-12-25       Tablet              NaN   \n",
       "\n",
       "   Quantity  Price Per Unit Payment Method  Customer Age   Total Amount   \n",
       "8       4.0          390.53     Debit Card          42.0         1562.12  "
      ]
     },
     "execution_count": 18,
     "metadata": {},
     "output_type": "execute_result"
    }
   ],
   "source": [
    "# Print rows where 'Product Category' is null\n",
    "df[df['Product Category'].isnull()]"
   ]
  },
  {
   "cell_type": "markdown",
   "id": "eb8a668d",
   "metadata": {},
   "source": [
    "- Here, we see that the product is \"Tablet.\" Therefore, we can handle this missing value by setting the `Product Category` to \"Electronics.\""
   ]
  },
  {
   "cell_type": "code",
   "execution_count": 19,
   "id": "aa22407b",
   "metadata": {},
   "outputs": [],
   "source": [
    "import numpy as np #import the Numpy Library\n",
    "\n",
    "# Replace NaN values in 'Product Category' with 'Electronics'\n",
    "df['Product Category'] = df['Product Category'].replace(np.nan, 'Electronics')"
   ]
  },
  {
   "cell_type": "markdown",
   "id": "00c4970f",
   "metadata": {},
   "source": [
    "- `np.nan` is used to represent missing values (NaN) in the replace function.\n",
    "- This code replaces all `NaN` values in the Product Category column with \"Electronics.\""
   ]
  },
  {
   "cell_type": "markdown",
   "id": "7791e5f0",
   "metadata": {},
   "source": [
    "In this case, we knew there was only one missing value in `Product Category` and that the `Product Name` was \"Tablet.\" Therefore, we used a simple replacement to fill in \"Electronics\" as the category:\n",
    "\n",
    "```python\n",
    "import numpy as np\n",
    "\n",
    "# Replace NaN values in 'Product Category' with 'Electronics' for a single known missing entry\n",
    "df['Product Category'] = df['Product Category'].replace(np.nan, 'Electronics')\n",
    "\n",
    "However, if there are multiple missing values in `Product Category` for different products, each belonging to a distinct category, we need to be more specific. This approach requires us to target both the product name and the intended category to avoid incorrect replacements.\n",
    "\n",
    "For instance, if we have missing values across several products, we can use a conditional approach to assign the correct category based on `Product Name`. Here’s how we could achieve this:\n",
    "\n",
    "```python\n",
    "# Fill missing 'Product Category' values based on specific 'Product Name' conditions\n",
    "\n",
    "# For rows where 'Product Name' is 'Tablet' and 'Product Category' is missing, set 'Product Category' to 'Electronics'\n",
    "df.loc[(df['Product Name'] == 'Tablet') & (df['Product Category'].isnull()), 'Product Category'] = 'Electronics'\n",
    "\n",
    "# For rows where 'Product Name' is 'Chair' and 'Product Category' is missing, set 'Product Category' to 'Furniture'\n",
    "df.loc[(df['Product Name'] == 'Chair') & (df['Product Category'].isnull()), 'Product Category'] = 'Furniture'\n",
    "\n",
    "# For rows where 'Product Name' is 'Phone' and 'Product Category' is missing, set 'Product Category' to 'Electronics'\n",
    "df.loc[(df['Product Name'] == 'Phone') & (df['Product Category'].isnull()), 'Product Category'] = 'Electronics'\n"
   ]
  },
  {
   "cell_type": "markdown",
   "id": "44d473d8",
   "metadata": {},
   "source": [
    "### b) Handling Missing Value in Customer Age Column"
   ]
  },
  {
   "cell_type": "code",
   "execution_count": 20,
   "id": "7e8f0ceb",
   "metadata": {},
   "outputs": [
    {
     "data": {
      "text/html": [
       "<div>\n",
       "<style scoped>\n",
       "    .dataframe tbody tr th:only-of-type {\n",
       "        vertical-align: middle;\n",
       "    }\n",
       "\n",
       "    .dataframe tbody tr th {\n",
       "        vertical-align: top;\n",
       "    }\n",
       "\n",
       "    .dataframe thead th {\n",
       "        text-align: right;\n",
       "    }\n",
       "</style>\n",
       "<table border=\"1\" class=\"dataframe\">\n",
       "  <thead>\n",
       "    <tr style=\"text-align: right;\">\n",
       "      <th></th>\n",
       "      <th>CustomerID</th>\n",
       "      <th>TransactionID</th>\n",
       "      <th>Transaction Date</th>\n",
       "      <th>Product Name</th>\n",
       "      <th>Product Category</th>\n",
       "      <th>Quantity</th>\n",
       "      <th>Price Per Unit</th>\n",
       "      <th>Payment Method</th>\n",
       "      <th>Customer Age</th>\n",
       "      <th>Total Amount</th>\n",
       "    </tr>\n",
       "  </thead>\n",
       "  <tbody>\n",
       "    <tr>\n",
       "      <th>11</th>\n",
       "      <td>CUST048</td>\n",
       "      <td>TXN0012</td>\n",
       "      <td>2023-07-26</td>\n",
       "      <td>Headphones</td>\n",
       "      <td>Electronics</td>\n",
       "      <td>4.0</td>\n",
       "      <td>231.3</td>\n",
       "      <td>Cash</td>\n",
       "      <td>NaN</td>\n",
       "      <td>925.2</td>\n",
       "    </tr>\n",
       "  </tbody>\n",
       "</table>\n",
       "</div>"
      ],
      "text/plain": [
       "   CustomerID TransactionID Transaction Date Product Name Product Category  \\\n",
       "11    CUST048       TXN0012       2023-07-26   Headphones      Electronics   \n",
       "\n",
       "    Quantity  Price Per Unit Payment Method  Customer Age   Total Amount   \n",
       "11       4.0           231.3           Cash           NaN           925.2  "
      ]
     },
     "execution_count": 20,
     "metadata": {},
     "output_type": "execute_result"
    }
   ],
   "source": [
    "# Print rows where 'Customer Age' is null\n",
    "df[df['Customer Age'].isnull()]"
   ]
  },
  {
   "cell_type": "markdown",
   "id": "a03cd371",
   "metadata": {},
   "source": [
    "- For missing `'Customer Age'`, use the median to fill in these values"
   ]
  },
  {
   "cell_type": "code",
   "execution_count": 21,
   "id": "9110c4ed",
   "metadata": {},
   "outputs": [
    {
     "name": "stdout",
     "output_type": "stream",
     "text": [
      "46.0\n"
     ]
    }
   ],
   "source": [
    "# Finding the Median\n",
    "age_median = df['Customer Age'].median()\n",
    "print(age_median) # The median is 46"
   ]
  },
  {
   "cell_type": "code",
   "execution_count": 22,
   "id": "d4eb1d58",
   "metadata": {},
   "outputs": [],
   "source": [
    "#Replace NA values in Customer Age column with median age\n",
    "df['Customer Age'] = df['Customer Age'].fillna(age_median)"
   ]
  },
  {
   "cell_type": "code",
   "execution_count": 26,
   "id": "3d3417d9",
   "metadata": {},
   "outputs": [
    {
     "name": "stdout",
     "output_type": "stream",
     "text": [
      "CustomerID          0\n",
      "TransactionID       0\n",
      "Transaction Date    0\n",
      "Product Name        0\n",
      "Product Category    0\n",
      "Quantity            0\n",
      "Price Per Unit      0\n",
      "Payment Method      0\n",
      "Customer Age        0\n",
      " Total Amount       0\n",
      "dtype: int64\n"
     ]
    }
   ],
   "source": [
    "# Confirm no missing values remain in these key columns\n",
    "print(df.isnull().sum())"
   ]
  },
  {
   "cell_type": "markdown",
   "id": "d72ab762",
   "metadata": {},
   "source": [
    "## Save the Cleaned Dataset "
   ]
  },
  {
   "cell_type": "code",
   "execution_count": 27,
   "id": "635b43e3",
   "metadata": {},
   "outputs": [],
   "source": [
    "# Export the DataFrame to a CSV file\n",
    "df.to_csv('cleaned_data.csv', index=False)\n"
   ]
  },
  {
   "cell_type": "markdown",
   "id": "dcc0a48d",
   "metadata": {},
   "source": [
    "In this topic, we:\n",
    "\n",
    "- Corrected data types.\n",
    "- Standardised text values in the `Product Name` and `Product Category` columns.\n",
    "- Handled missing values by filling with appropriate values where possible.\n",
    "\n",
    "By cleaning the data this way, we ensure our dataset is consistent and ready for analysis.\n"
   ]
  },
  {
   "cell_type": "markdown",
   "id": "5862e8f9",
   "metadata": {},
   "source": [
    "## What's Next?"
   ]
  },
  {
   "cell_type": "markdown",
   "id": "e7e93320",
   "metadata": {},
   "source": [
    "In the next topic, Data Cleaning in Python (Part 2), we’ll focus on handling duplicates, detecting outliers, and performing data integration and feature engineering to further improve data quality."
   ]
  }
 ],
 "metadata": {
  "kernelspec": {
   "display_name": "venv",
   "language": "python",
   "name": "python3"
  },
  "language_info": {
   "codemirror_mode": {
    "name": "ipython",
    "version": 3
   },
   "file_extension": ".py",
   "mimetype": "text/x-python",
   "name": "python",
   "nbconvert_exporter": "python",
   "pygments_lexer": "ipython3",
   "version": "3.12.3"
  }
 },
 "nbformat": 4,
 "nbformat_minor": 5
}
